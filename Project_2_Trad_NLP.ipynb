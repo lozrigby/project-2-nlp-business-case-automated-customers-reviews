{
  "nbformat": 4,
  "nbformat_minor": 0,
  "metadata": {
    "colab": {
      "provenance": [],
      "machine_shape": "hm",
      "gpuType": "A100",
      "authorship_tag": "ABX9TyNpKkWm06gY34VL0SoeKt4h",
      "include_colab_link": true
    },
    "kernelspec": {
      "name": "python3",
      "display_name": "Python 3"
    },
    "language_info": {
      "name": "python"
    },
    "accelerator": "GPU"
  },
  "cells": [
    {
      "cell_type": "markdown",
      "metadata": {
        "id": "view-in-github",
        "colab_type": "text"
      },
      "source": [
        "<a href=\"https://colab.research.google.com/github/lozrigby/project-2-nlp-business-case-automated-customers-reviews/blob/main/Project_2_Trad_NLP.ipynb\" target=\"_parent\"><img src=\"https://colab.research.google.com/assets/colab-badge.svg\" alt=\"Open In Colab\"/></a>"
      ]
    },
    {
      "cell_type": "markdown",
      "source": [
        "## **Traditional NLP & ML approaches**"
      ],
      "metadata": {
        "id": "whNAJLqG957m"
      }
    },
    {
      "cell_type": "markdown",
      "source": [
        "**Loading the data**"
      ],
      "metadata": {
        "id": "yWSTbY0HyzW0"
      }
    },
    {
      "cell_type": "code",
      "source": [
        "import pandas as pd\n",
        "from google.colab import drive\n",
        "import re\n",
        "from sklearn.feature_extraction.text import TfidfVectorizer\n",
        "from sklearn.model_selection import train_test_split, learning_curve\n",
        "from sklearn.naive_bayes import MultinomialNB\n",
        "from sklearn.linear_model import LogisticRegression\n",
        "from sklearn.ensemble import RandomForestClassifier\n",
        "from nltk.tokenize import word_tokenize\n",
        "from nltk.stem import WordNetLemmatizer, PorterStemmer\n",
        "from sklearn.metrics import classification_report, accuracy_score, confusion_matrix\n",
        "from nltk.corpus import stopwords\n",
        "import matplotlib.pyplot as plt\n",
        "import nltk\n",
        "import seaborn as sns\n",
        "import random\n",
        "nltk.download('punkt')\n",
        "nltk.download('wordnet')\n",
        "nltk.download('averaged_perceptron_tagger')\n",
        "nltk.download('stopwords')"
      ],
      "metadata": {
        "colab": {
          "base_uri": "https://localhost:8080/"
        },
        "id": "NOJaupxf75o8",
        "outputId": "ae3e46d3-1ee6-4022-8a20-a63bfaab816a"
      },
      "execution_count": null,
      "outputs": [
        {
          "output_type": "stream",
          "name": "stderr",
          "text": [
            "[nltk_data] Downloading package punkt to /root/nltk_data...\n",
            "[nltk_data]   Unzipping tokenizers/punkt.zip.\n",
            "[nltk_data] Downloading package wordnet to /root/nltk_data...\n",
            "[nltk_data] Downloading package averaged_perceptron_tagger to\n",
            "[nltk_data]     /root/nltk_data...\n",
            "[nltk_data]   Unzipping taggers/averaged_perceptron_tagger.zip.\n",
            "[nltk_data] Downloading package stopwords to /root/nltk_data...\n",
            "[nltk_data]   Unzipping corpora/stopwords.zip.\n"
          ]
        },
        {
          "output_type": "execute_result",
          "data": {
            "text/plain": [
              "True"
            ]
          },
          "metadata": {},
          "execution_count": 2
        }
      ]
    },
    {
      "cell_type": "code",
      "source": [
        "drive.mount('/content/drive', force_remount=True)\n"
      ],
      "metadata": {
        "colab": {
          "base_uri": "https://localhost:8080/"
        },
        "id": "6z3GOqfj4eTT",
        "outputId": "e0c81d04-cbf5-4d35-cc03-f9082892f943"
      },
      "execution_count": null,
      "outputs": [
        {
          "output_type": "stream",
          "name": "stdout",
          "text": [
            "Mounted at /content/drive\n"
          ]
        }
      ]
    },
    {
      "cell_type": "code",
      "source": [
        "# Define the file path\n",
        "file_path1 = '/content/drive/MyDrive/Ironhack/P2/1429_1.csv'\n",
        "\n",
        "\n",
        "# Read the CSV file\n",
        "df1 = pd.read_csv(file_path1)\n",
        "\n",
        "print(\"Original dataframe:\")\n",
        "print(df1.head())\n"
      ],
      "metadata": {
        "colab": {
          "base_uri": "https://localhost:8080/"
        },
        "id": "4N-iBDZ14hwf",
        "outputId": "1806a494-728b-4c64-c5ed-2e1193878cb7"
      },
      "execution_count": null,
      "outputs": [
        {
          "output_type": "stream",
          "name": "stdout",
          "text": [
            "Original dataframe:\n",
            "                     id                                               name  \\\n",
            "0  AVqkIhwDv8e3D1O-lebb  All-New Fire HD 8 Tablet, 8 HD Display, Wi-Fi,...   \n",
            "1  AVqkIhwDv8e3D1O-lebb  All-New Fire HD 8 Tablet, 8 HD Display, Wi-Fi,...   \n",
            "2  AVqkIhwDv8e3D1O-lebb  All-New Fire HD 8 Tablet, 8 HD Display, Wi-Fi,...   \n",
            "3  AVqkIhwDv8e3D1O-lebb  All-New Fire HD 8 Tablet, 8 HD Display, Wi-Fi,...   \n",
            "4  AVqkIhwDv8e3D1O-lebb  All-New Fire HD 8 Tablet, 8 HD Display, Wi-Fi,...   \n",
            "\n",
            "        asins   brand                                         categories  \\\n",
            "0  B01AHB9CN2  Amazon  Electronics,iPad & Tablets,All Tablets,Fire Ta...   \n",
            "1  B01AHB9CN2  Amazon  Electronics,iPad & Tablets,All Tablets,Fire Ta...   \n",
            "2  B01AHB9CN2  Amazon  Electronics,iPad & Tablets,All Tablets,Fire Ta...   \n",
            "3  B01AHB9CN2  Amazon  Electronics,iPad & Tablets,All Tablets,Fire Ta...   \n",
            "4  B01AHB9CN2  Amazon  Electronics,iPad & Tablets,All Tablets,Fire Ta...   \n",
            "\n",
            "                                                keys manufacturer  \\\n",
            "0  841667104676,amazon/53004484,amazon/b01ahb9cn2...       Amazon   \n",
            "1  841667104676,amazon/53004484,amazon/b01ahb9cn2...       Amazon   \n",
            "2  841667104676,amazon/53004484,amazon/b01ahb9cn2...       Amazon   \n",
            "3  841667104676,amazon/53004484,amazon/b01ahb9cn2...       Amazon   \n",
            "4  841667104676,amazon/53004484,amazon/b01ahb9cn2...       Amazon   \n",
            "\n",
            "               reviews.date     reviews.dateAdded  \\\n",
            "0  2017-01-13T00:00:00.000Z  2017-07-03T23:33:15Z   \n",
            "1  2017-01-13T00:00:00.000Z  2017-07-03T23:33:15Z   \n",
            "2  2017-01-13T00:00:00.000Z  2017-07-03T23:33:15Z   \n",
            "3  2017-01-13T00:00:00.000Z  2017-07-03T23:33:15Z   \n",
            "4  2017-01-12T00:00:00.000Z  2017-07-03T23:33:15Z   \n",
            "\n",
            "                                    reviews.dateSeen  ... reviews.doRecommend  \\\n",
            "0  2017-06-07T09:04:00.000Z,2017-04-30T00:45:00.000Z  ...                True   \n",
            "1  2017-06-07T09:04:00.000Z,2017-04-30T00:45:00.000Z  ...                True   \n",
            "2  2017-06-07T09:04:00.000Z,2017-04-30T00:45:00.000Z  ...                True   \n",
            "3  2017-06-07T09:04:00.000Z,2017-04-30T00:45:00.000Z  ...                True   \n",
            "4  2017-06-07T09:04:00.000Z,2017-04-30T00:45:00.000Z  ...                True   \n",
            "\n",
            "  reviews.id  reviews.numHelpful  reviews.rating  \\\n",
            "0        NaN                 0.0             5.0   \n",
            "1        NaN                 0.0             5.0   \n",
            "2        NaN                 0.0             5.0   \n",
            "3        NaN                 0.0             4.0   \n",
            "4        NaN                 0.0             5.0   \n",
            "\n",
            "                                  reviews.sourceURLs  \\\n",
            "0  http://reviews.bestbuy.com/3545/5620406/review...   \n",
            "1  http://reviews.bestbuy.com/3545/5620406/review...   \n",
            "2  http://reviews.bestbuy.com/3545/5620406/review...   \n",
            "3  http://reviews.bestbuy.com/3545/5620406/review...   \n",
            "4  http://reviews.bestbuy.com/3545/5620406/review...   \n",
            "\n",
            "                                        reviews.text  \\\n",
            "0  This product so far has not disappointed. My c...   \n",
            "1  great for beginner or experienced person. Boug...   \n",
            "2  Inexpensive tablet for him to use and learn on...   \n",
            "3  I've had my Fire HD 8 two weeks now and I love...   \n",
            "4  I bought this for my grand daughter when she c...   \n",
            "\n",
            "                             reviews.title reviews.userCity  \\\n",
            "0                                   Kindle              NaN   \n",
            "1                                very fast              NaN   \n",
            "2  Beginner tablet for our 9 year old son.              NaN   \n",
            "3                                  Good!!!              NaN   \n",
            "4                Fantastic Tablet for kids              NaN   \n",
            "\n",
            "   reviews.userProvince  reviews.username  \n",
            "0                   NaN           Adapter  \n",
            "1                   NaN            truman  \n",
            "2                   NaN             DaveZ  \n",
            "3                   NaN            Shacks  \n",
            "4                   NaN         explore42  \n",
            "\n",
            "[5 rows x 21 columns]\n"
          ]
        },
        {
          "output_type": "stream",
          "name": "stderr",
          "text": [
            "<ipython-input-4-c84d72581454>:6: DtypeWarning: Columns (1,10) have mixed types. Specify dtype option on import or set low_memory=False.\n",
            "  df1 = pd.read_csv(file_path1)\n"
          ]
        }
      ]
    },
    {
      "cell_type": "code",
      "source": [
        "print(\"Columns in the DataFrame:\")\n",
        "print(df1.columns)"
      ],
      "metadata": {
        "colab": {
          "base_uri": "https://localhost:8080/"
        },
        "id": "IpwF4GyNWnrT",
        "outputId": "6f5a528a-bb12-4bc1-88e2-7b328f50a0af"
      },
      "execution_count": null,
      "outputs": [
        {
          "output_type": "stream",
          "name": "stdout",
          "text": [
            "Columns in the DataFrame:\n",
            "Index(['id', 'name', 'asins', 'brand', 'categories', 'keys', 'manufacturer',\n",
            "       'reviews.date', 'reviews.dateAdded', 'reviews.dateSeen',\n",
            "       'reviews.didPurchase', 'reviews.doRecommend', 'reviews.id',\n",
            "       'reviews.numHelpful', 'reviews.rating', 'reviews.sourceURLs',\n",
            "       'reviews.text', 'reviews.title', 'reviews.userCity',\n",
            "       'reviews.userProvince', 'reviews.username'],\n",
            "      dtype='object')\n"
          ]
        }
      ]
    },
    {
      "cell_type": "code",
      "source": [
        "rating_counts = df1['reviews.rating'].value_counts()\n",
        "\n",
        "# Print the counts for each rating\n",
        "print(\"Rating counts:\")\n",
        "print(\"1/2:\", rating_counts.get(1, 0) + rating_counts.get(2, 0))  # Combine counts for 1 and 2 ratings\n",
        "print(\"3:\", rating_counts.get(3, 0))\n",
        "print(\"4/5:\", rating_counts.get(4, 0) + rating_counts.get(5, 0))"
      ],
      "metadata": {
        "colab": {
          "base_uri": "https://localhost:8080/"
        },
        "id": "Fc8moUlpis4l",
        "outputId": "139b6910-be39-4816-e596-0face78a119e"
      },
      "execution_count": null,
      "outputs": [
        {
          "output_type": "stream",
          "name": "stdout",
          "text": [
            "Rating counts:\n",
            "1/2: 812\n",
            "3: 1499\n",
            "4/5: 32316\n"
          ]
        }
      ]
    },
    {
      "cell_type": "markdown",
      "source": [
        "### **Data preprocessing**"
      ],
      "metadata": {
        "id": "_uFg2WgR98R_"
      }
    },
    {
      "cell_type": "markdown",
      "source": [
        "**Data Cleaning**\n",
        "\n",
        "- Removing special characters, punctuation, and whitespace\n",
        "\n",
        "- Covert text to lowercase"
      ],
      "metadata": {
        "id": "KlhoxqJo-BTE"
      }
    },
    {
      "cell_type": "code",
      "source": [
        "def clean_text(text):\n",
        "    if pd.isnull(text):\n",
        "        return \"\"\n",
        "    text = str(text) #non string errors\n",
        "\n",
        "    text = text.lower()\n",
        "    text = re.sub(r'[^A-Za-z0-9\\s]', '', text)\n",
        "    text = re.sub(r'\\s+', ' ', text).strip()\n",
        "    return text"
      ],
      "metadata": {
        "id": "Fqhyahll5-zq"
      },
      "execution_count": null,
      "outputs": []
    },
    {
      "cell_type": "code",
      "source": [
        "df1['reviews.text'] = df1['reviews.text'].apply(clean_text)\n",
        "df1 = df1[['reviews.text', 'reviews.rating']]\n",
        "print(\"Cleaned DataFrame:\")\n",
        "print(df1.head())"
      ],
      "metadata": {
        "colab": {
          "base_uri": "https://localhost:8080/"
        },
        "id": "qnlc9JCm86Xf",
        "outputId": "2d401f29-ad57-4418-bf21-4273d1e9efb1"
      },
      "execution_count": null,
      "outputs": [
        {
          "output_type": "stream",
          "name": "stdout",
          "text": [
            "Cleaned DataFrame:\n",
            "                                        reviews.text  reviews.rating\n",
            "0  this product so far has not disappointed my ch...             5.0\n",
            "1  great for beginner or experienced person bough...             5.0\n",
            "2  inexpensive tablet for him to use and learn on...             5.0\n",
            "3  ive had my fire hd 8 two weeks now and i love ...             4.0\n",
            "4  i bought this for my grand daughter when she c...             5.0\n"
          ]
        }
      ]
    },
    {
      "cell_type": "markdown",
      "source": [
        "**Tokenisation and Lemmatization**"
      ],
      "metadata": {
        "id": "0d0CZcDQ-N6Y"
      }
    },
    {
      "cell_type": "markdown",
      "source": [
        "Tokenisation and removal of stopwords"
      ],
      "metadata": {
        "id": "hjzZ5r04ABdS"
      }
    },
    {
      "cell_type": "code",
      "source": [
        "stop_words = set(stopwords.words('english'))"
      ],
      "metadata": {
        "id": "KKfy9GA1RBWp"
      },
      "execution_count": null,
      "outputs": []
    },
    {
      "cell_type": "code",
      "source": [
        " def tokenize_text(text):\n",
        "     tokens = word_tokenize(text)\n",
        "     tokens = [token for token in tokens if token not in stop_words]\n",
        "     text = ' '.join(tokens)\n",
        "     return tokens\n"
      ],
      "metadata": {
        "id": "2Er2rXFc-Rj2"
      },
      "execution_count": null,
      "outputs": []
    },
    {
      "cell_type": "code",
      "source": [
        "df1['reviews.text'] = df1['reviews.text'].apply(tokenize_text)\n",
        "df1 = df1[['reviews.text', 'reviews.rating']]"
      ],
      "metadata": {
        "id": "Y5pRCHpA_RK5"
      },
      "execution_count": null,
      "outputs": []
    },
    {
      "cell_type": "code",
      "source": [
        "print(\"Tokenized DataFrame:\")\n",
        "print(df1.head())"
      ],
      "metadata": {
        "colab": {
          "base_uri": "https://localhost:8080/"
        },
        "id": "t-m9s5HC_Ypk",
        "outputId": "539401f2-e1a9-4674-e491-20bf56f21b9e"
      },
      "execution_count": null,
      "outputs": [
        {
          "output_type": "stream",
          "name": "stdout",
          "text": [
            "Tokenized DataFrame:\n",
            "                                        reviews.text  reviews.rating\n",
            "0  [product, far, disappointed, children, love, u...             5.0\n",
            "1  [great, beginner, experienced, person, bought,...             5.0\n",
            "2  [inexpensive, tablet, use, learn, step, nabi, ...             5.0\n",
            "3  [ive, fire, hd, 8, two, weeks, love, tablet, g...             4.0\n",
            "4  [bought, grand, daughter, comes, visit, set, u...             5.0\n"
          ]
        }
      ]
    },
    {
      "cell_type": "markdown",
      "source": [
        "Root form"
      ],
      "metadata": {
        "id": "bdlgNV2M_-FP"
      }
    },
    {
      "cell_type": "code",
      "source": [
        "stemmer = PorterStemmer()"
      ],
      "metadata": {
        "id": "Jy9YvNBnIS1e"
      },
      "execution_count": null,
      "outputs": []
    },
    {
      "cell_type": "code",
      "source": [
        "def stem_text(tokens):\n",
        "    stemmed_tokens = [stemmer.stem(token) for token in tokens]\n",
        "    return stemmed_tokens\n"
      ],
      "metadata": {
        "id": "7cuB2U6AIJG_"
      },
      "execution_count": null,
      "outputs": []
    },
    {
      "cell_type": "code",
      "source": [
        "df1['reviews.text'] = df1['reviews.text'].apply(stem_text)\n",
        "df1 = df1[['reviews.text', 'reviews.rating']]"
      ],
      "metadata": {
        "id": "Aa9db5-pIPKH"
      },
      "execution_count": null,
      "outputs": []
    },
    {
      "cell_type": "code",
      "source": [
        "print(\"Stemmed DataFrame:\")\n",
        "print(df1.head())"
      ],
      "metadata": {
        "colab": {
          "base_uri": "https://localhost:8080/"
        },
        "id": "pcCB6DakIgxZ",
        "outputId": "55818a8e-0bdd-420b-817b-28b82537e4d3"
      },
      "execution_count": null,
      "outputs": [
        {
          "output_type": "stream",
          "name": "stdout",
          "text": [
            "Stemmed DataFrame:\n",
            "                                        reviews.text  reviews.rating\n",
            "0  [product, far, disappoint, children, love, use...             5.0\n",
            "1  [great, beginn, experienc, person, bought, gif...             5.0\n",
            "2  [inexpens, tablet, use, learn, step, nabi, thr...             5.0\n",
            "3  [ive, fire, hd, 8, two, week, love, tablet, gr...             4.0\n",
            "4  [bought, grand, daughter, come, visit, set, us...             5.0\n"
          ]
        }
      ]
    },
    {
      "cell_type": "markdown",
      "source": [
        "**Vectorization**"
      ],
      "metadata": {
        "id": "AM11lL3yI2qr"
      }
    },
    {
      "cell_type": "markdown",
      "source": [
        "Convert the tokenised and stemmed text into strings so we can use TF-IDF vectorization"
      ],
      "metadata": {
        "id": "C7vSpVCbJvke"
      }
    },
    {
      "cell_type": "code",
      "source": [
        "df1['reviews.text'] = df1['reviews.text'].apply(lambda x: ' '.join(x))"
      ],
      "metadata": {
        "id": "_ikcAzKhI48i"
      },
      "execution_count": null,
      "outputs": []
    },
    {
      "cell_type": "code",
      "source": [
        "tfidf_vectorizer = TfidfVectorizer()\n",
        "tfidf_matrix = tfidf_vectorizer.fit_transform(df1['reviews.text'])"
      ],
      "metadata": {
        "id": "dT8QFOlkJqa9"
      },
      "execution_count": null,
      "outputs": []
    },
    {
      "cell_type": "code",
      "source": [
        "print(\"TF-IDF Matrix Shape:\", tfidf_matrix.shape)\n",
        "print(\"TF-IDF Matrix:\")\n",
        "print(tfidf_matrix.toarray())"
      ],
      "metadata": {
        "colab": {
          "base_uri": "https://localhost:8080/"
        },
        "id": "QfTl5RsSJt8b",
        "outputId": "e28bf21d-445f-4961-f02d-4e4cf6fdf9d1"
      },
      "execution_count": null,
      "outputs": [
        {
          "output_type": "stream",
          "name": "stdout",
          "text": [
            "TF-IDF Matrix Shape: (34660, 14104)\n",
            "TF-IDF Matrix:\n",
            "[[0. 0. 0. ... 0. 0. 0.]\n",
            " [0. 0. 0. ... 0. 0. 0.]\n",
            " [0. 0. 0. ... 0. 0. 0.]\n",
            " ...\n",
            " [0. 0. 0. ... 0. 0. 0.]\n",
            " [0. 0. 0. ... 0. 0. 0.]\n",
            " [0. 0. 0. ... 0. 0. 0.]]\n"
          ]
        }
      ]
    },
    {
      "cell_type": "markdown",
      "source": [
        "Random row summed up in order to check that not all values are 0"
      ],
      "metadata": {
        "id": "aX394pS4MlUU"
      }
    },
    {
      "cell_type": "code",
      "source": [
        "random_row_index = random.randint(0, tfidf_matrix.shape[0] - 1)\n",
        "random_row = tfidf_matrix[random_row_index].toarray()\n",
        "row_sum = random_row.sum()"
      ],
      "metadata": {
        "id": "FMSipuqgMRvw"
      },
      "execution_count": null,
      "outputs": []
    },
    {
      "cell_type": "code",
      "source": [
        "print(f\"Random Row Index: {random_row_index}\")\n",
        "print(f\"Sum of TF-IDF Values in Random Row: {row_sum}\")"
      ],
      "metadata": {
        "colab": {
          "base_uri": "https://localhost:8080/"
        },
        "id": "YrEylhpCMWN2",
        "outputId": "7ae584b8-0559-4c74-cc0e-9a2b0176835b"
      },
      "execution_count": null,
      "outputs": [
        {
          "output_type": "stream",
          "name": "stdout",
          "text": [
            "Random Row Index: 14906\n",
            "Sum of TF-IDF Values in Random Row: 3.7289671261393567\n"
          ]
        }
      ]
    },
    {
      "cell_type": "code",
      "source": [
        "feature_names = tfidf_vectorizer.get_feature_names_out()\n",
        "tfidf_df = pd.DataFrame(tfidf_matrix.toarray(), columns=feature_names)"
      ],
      "metadata": {
        "id": "bKfKIqhyM6JV"
      },
      "execution_count": null,
      "outputs": []
    },
    {
      "cell_type": "code",
      "source": [
        "print(\"TF-IDF Matrix:\")\n",
        "print(tfidf_df.head())"
      ],
      "metadata": {
        "colab": {
          "base_uri": "https://localhost:8080/"
        },
        "id": "Zs1HpVr-M_3-",
        "outputId": "b51616d2-6095-4b72-b592-7fcf558808fa"
      },
      "execution_count": null,
      "outputs": [
        {
          "output_type": "stream",
          "name": "stdout",
          "text": [
            "TF-IDF Matrix:\n",
            "   01052016  01162017  062017  0ff  0ne   10  100  1000  10000  1000ma  ...  \\\n",
            "0       0.0       0.0     0.0  0.0  0.0  0.0  0.0   0.0    0.0     0.0  ...   \n",
            "1       0.0       0.0     0.0  0.0  0.0  0.0  0.0   0.0    0.0     0.0  ...   \n",
            "2       0.0       0.0     0.0  0.0  0.0  0.0  0.0   0.0    0.0     0.0  ...   \n",
            "3       0.0       0.0     0.0  0.0  0.0  0.0  0.0   0.0    0.0     0.0  ...   \n",
            "4       0.0       0.0     0.0  0.0  0.0  0.0  0.0   0.0    0.0     0.0  ...   \n",
            "\n",
            "   zigbe  zinio  zip  zipper  zippi  zombiesotherwis  zone  zoo  zoom  zwave  \n",
            "0    0.0    0.0  0.0     0.0    0.0              0.0   0.0  0.0   0.0    0.0  \n",
            "1    0.0    0.0  0.0     0.0    0.0              0.0   0.0  0.0   0.0    0.0  \n",
            "2    0.0    0.0  0.0     0.0    0.0              0.0   0.0  0.0   0.0    0.0  \n",
            "3    0.0    0.0  0.0     0.0    0.0              0.0   0.0  0.0   0.0    0.0  \n",
            "4    0.0    0.0  0.0     0.0    0.0              0.0   0.0  0.0   0.0    0.0  \n",
            "\n",
            "[5 rows x 14104 columns]\n"
          ]
        }
      ]
    },
    {
      "cell_type": "code",
      "source": [
        "tfidf_sum = tfidf_matrix.sum(axis=0)\n",
        "\n",
        "word_sum_tuples = [(word, tfidf_sum[0, idx]) for word, idx in tfidf_vectorizer.vocabulary_.items()]\n",
        "word_sum_tuples = sorted(word_sum_tuples, key=lambda x: x[1], reverse=True)"
      ],
      "metadata": {
        "id": "Jf_bDjMgNged"
      },
      "execution_count": null,
      "outputs": []
    },
    {
      "cell_type": "markdown",
      "source": [
        "Most popular words\n",
        "- shows the postitive dataset sway"
      ],
      "metadata": {
        "id": "e6cRhs_hbprv"
      }
    },
    {
      "cell_type": "code",
      "source": [
        "top_n = 10\n",
        "print(f\"Top {top_n} Most Highly Used Words:\")\n",
        "for i, (word, sum_tfidf) in enumerate(word_sum_tuples[:top_n], start=1):\n",
        "    print(f\"{i}. {word}: {sum_tfidf:.2f}\")"
      ],
      "metadata": {
        "colab": {
          "base_uri": "https://localhost:8080/"
        },
        "id": "wYeEEuN1M_Jw",
        "outputId": "a59cad9c-1c84-4c86-e3cb-d072ae72b5a4"
      },
      "execution_count": null,
      "outputs": [
        {
          "output_type": "stream",
          "name": "stdout",
          "text": [
            "Top 10 Most Highly Used Words:\n",
            "1. great: 1636.76\n",
            "2. love: 1515.35\n",
            "3. tablet: 1396.28\n",
            "4. use: 1395.92\n",
            "5. easi: 1103.27\n",
            "6. good: 897.52\n",
            "7. bought: 857.57\n",
            "8. work: 841.58\n",
            "9. kindl: 812.42\n",
            "10. read: 808.26\n"
          ]
        }
      ]
    },
    {
      "cell_type": "markdown",
      "source": [
        "Modelling"
      ],
      "metadata": {
        "id": "JnRzAwfDUJLV"
      }
    },
    {
      "cell_type": "code",
      "source": [
        "df1 = df1[['reviews.text', 'reviews.rating']]"
      ],
      "metadata": {
        "id": "UlS2tpp3XGR1"
      },
      "execution_count": null,
      "outputs": []
    },
    {
      "cell_type": "code",
      "source": [
        "def convert_rating_to_sentiment(rating):\n",
        "    if rating in [1, 2]:\n",
        "        return 'negative'\n",
        "    elif rating == 3:\n",
        "        return 'neutral'\n",
        "    else:\n",
        "        return 'positive'"
      ],
      "metadata": {
        "id": "Sa9hkRcvSb0g"
      },
      "execution_count": null,
      "outputs": []
    },
    {
      "cell_type": "code",
      "source": [
        "df1['sentiment'] = df1['reviews.rating'].apply(convert_rating_to_sentiment)"
      ],
      "metadata": {
        "id": "ITRZhq9NSfg3"
      },
      "execution_count": null,
      "outputs": []
    },
    {
      "cell_type": "code",
      "source": [
        "x_train, x_test, y_train, y_test = train_test_split(tfidf_matrix, df1['sentiment'], test_size=0.2, random_state=42)"
      ],
      "metadata": {
        "id": "iCDXMrGeSXku"
      },
      "execution_count": null,
      "outputs": []
    },
    {
      "cell_type": "code",
      "source": [
        "print(f'Train set size: {x_train.shape[0]}')\n",
        "print(f'Test set size: {x_test.shape[0]}')"
      ],
      "metadata": {
        "colab": {
          "base_uri": "https://localhost:8080/"
        },
        "id": "7v933xdMkU6C",
        "outputId": "8fc20692-e51c-4ab0-df4e-36fbef6fe3ea"
      },
      "execution_count": null,
      "outputs": [
        {
          "output_type": "stream",
          "name": "stdout",
          "text": [
            "Train set size: 27728\n",
            "Test set size: 6932\n"
          ]
        }
      ]
    },
    {
      "cell_type": "markdown",
      "source": [
        "**Naive Bayes Model**"
      ],
      "metadata": {
        "id": "zDFyE7NyRodf"
      }
    },
    {
      "cell_type": "code",
      "source": [
        "nb_model = MultinomialNB()\n",
        "nb_model.fit(x_train, y_train)"
      ],
      "metadata": {
        "id": "KefW9yr4hk89",
        "colab": {
          "base_uri": "https://localhost:8080/",
          "height": 75
        },
        "outputId": "2c78dbc2-2749-406e-86b6-b4b708768b6a"
      },
      "execution_count": null,
      "outputs": [
        {
          "output_type": "execute_result",
          "data": {
            "text/plain": [
              "MultinomialNB()"
            ],
            "text/html": [
              "<style>#sk-container-id-1 {color: black;background-color: white;}#sk-container-id-1 pre{padding: 0;}#sk-container-id-1 div.sk-toggleable {background-color: white;}#sk-container-id-1 label.sk-toggleable__label {cursor: pointer;display: block;width: 100%;margin-bottom: 0;padding: 0.3em;box-sizing: border-box;text-align: center;}#sk-container-id-1 label.sk-toggleable__label-arrow:before {content: \"▸\";float: left;margin-right: 0.25em;color: #696969;}#sk-container-id-1 label.sk-toggleable__label-arrow:hover:before {color: black;}#sk-container-id-1 div.sk-estimator:hover label.sk-toggleable__label-arrow:before {color: black;}#sk-container-id-1 div.sk-toggleable__content {max-height: 0;max-width: 0;overflow: hidden;text-align: left;background-color: #f0f8ff;}#sk-container-id-1 div.sk-toggleable__content pre {margin: 0.2em;color: black;border-radius: 0.25em;background-color: #f0f8ff;}#sk-container-id-1 input.sk-toggleable__control:checked~div.sk-toggleable__content {max-height: 200px;max-width: 100%;overflow: auto;}#sk-container-id-1 input.sk-toggleable__control:checked~label.sk-toggleable__label-arrow:before {content: \"▾\";}#sk-container-id-1 div.sk-estimator input.sk-toggleable__control:checked~label.sk-toggleable__label {background-color: #d4ebff;}#sk-container-id-1 div.sk-label input.sk-toggleable__control:checked~label.sk-toggleable__label {background-color: #d4ebff;}#sk-container-id-1 input.sk-hidden--visually {border: 0;clip: rect(1px 1px 1px 1px);clip: rect(1px, 1px, 1px, 1px);height: 1px;margin: -1px;overflow: hidden;padding: 0;position: absolute;width: 1px;}#sk-container-id-1 div.sk-estimator {font-family: monospace;background-color: #f0f8ff;border: 1px dotted black;border-radius: 0.25em;box-sizing: border-box;margin-bottom: 0.5em;}#sk-container-id-1 div.sk-estimator:hover {background-color: #d4ebff;}#sk-container-id-1 div.sk-parallel-item::after {content: \"\";width: 100%;border-bottom: 1px solid gray;flex-grow: 1;}#sk-container-id-1 div.sk-label:hover label.sk-toggleable__label {background-color: #d4ebff;}#sk-container-id-1 div.sk-serial::before {content: \"\";position: absolute;border-left: 1px solid gray;box-sizing: border-box;top: 0;bottom: 0;left: 50%;z-index: 0;}#sk-container-id-1 div.sk-serial {display: flex;flex-direction: column;align-items: center;background-color: white;padding-right: 0.2em;padding-left: 0.2em;position: relative;}#sk-container-id-1 div.sk-item {position: relative;z-index: 1;}#sk-container-id-1 div.sk-parallel {display: flex;align-items: stretch;justify-content: center;background-color: white;position: relative;}#sk-container-id-1 div.sk-item::before, #sk-container-id-1 div.sk-parallel-item::before {content: \"\";position: absolute;border-left: 1px solid gray;box-sizing: border-box;top: 0;bottom: 0;left: 50%;z-index: -1;}#sk-container-id-1 div.sk-parallel-item {display: flex;flex-direction: column;z-index: 1;position: relative;background-color: white;}#sk-container-id-1 div.sk-parallel-item:first-child::after {align-self: flex-end;width: 50%;}#sk-container-id-1 div.sk-parallel-item:last-child::after {align-self: flex-start;width: 50%;}#sk-container-id-1 div.sk-parallel-item:only-child::after {width: 0;}#sk-container-id-1 div.sk-dashed-wrapped {border: 1px dashed gray;margin: 0 0.4em 0.5em 0.4em;box-sizing: border-box;padding-bottom: 0.4em;background-color: white;}#sk-container-id-1 div.sk-label label {font-family: monospace;font-weight: bold;display: inline-block;line-height: 1.2em;}#sk-container-id-1 div.sk-label-container {text-align: center;}#sk-container-id-1 div.sk-container {/* jupyter's `normalize.less` sets `[hidden] { display: none; }` but bootstrap.min.css set `[hidden] { display: none !important; }` so we also need the `!important` here to be able to override the default hidden behavior on the sphinx rendered scikit-learn.org. See: https://github.com/scikit-learn/scikit-learn/issues/21755 */display: inline-block !important;position: relative;}#sk-container-id-1 div.sk-text-repr-fallback {display: none;}</style><div id=\"sk-container-id-1\" class=\"sk-top-container\"><div class=\"sk-text-repr-fallback\"><pre>MultinomialNB()</pre><b>In a Jupyter environment, please rerun this cell to show the HTML representation or trust the notebook. <br />On GitHub, the HTML representation is unable to render, please try loading this page with nbviewer.org.</b></div><div class=\"sk-container\" hidden><div class=\"sk-item\"><div class=\"sk-estimator sk-toggleable\"><input class=\"sk-toggleable__control sk-hidden--visually\" id=\"sk-estimator-id-1\" type=\"checkbox\" checked><label for=\"sk-estimator-id-1\" class=\"sk-toggleable__label sk-toggleable__label-arrow\">MultinomialNB</label><div class=\"sk-toggleable__content\"><pre>MultinomialNB()</pre></div></div></div></div></div>"
            ]
          },
          "metadata": {},
          "execution_count": 37
        }
      ]
    },
    {
      "cell_type": "code",
      "source": [
        "y_pred = nb_model.predict(x_test)"
      ],
      "metadata": {
        "id": "GG2az2dBhkyH"
      },
      "execution_count": null,
      "outputs": []
    },
    {
      "cell_type": "code",
      "source": [
        "accuracy = accuracy_score(y_test, y_pred)\n",
        "report = classification_report(y_test, y_pred, zero_division=0)\n",
        "conf_matrix = confusion_matrix(y_test, y_pred)\n",
        "\n",
        "print(f'Accuracy: {accuracy}')\n",
        "print(f'Classification Report:\\n{report}')\n",
        "print(f'Confusion Matrix:\\n{conf_matrix}')"
      ],
      "metadata": {
        "id": "m0TBSkxPhmpi",
        "colab": {
          "base_uri": "https://localhost:8080/"
        },
        "outputId": "193d0ff5-75c5-4a95-d7e7-0ee14bff5ff9"
      },
      "execution_count": null,
      "outputs": [
        {
          "output_type": "stream",
          "name": "stdout",
          "text": [
            "Accuracy: 0.9363819965377957\n",
            "Classification Report:\n",
            "              precision    recall  f1-score   support\n",
            "\n",
            "    negative       0.00      0.00      0.00       161\n",
            "     neutral       0.00      0.00      0.00       278\n",
            "    positive       0.94      1.00      0.97      6493\n",
            "\n",
            "    accuracy                           0.94      6932\n",
            "   macro avg       0.31      0.33      0.32      6932\n",
            "weighted avg       0.88      0.94      0.91      6932\n",
            "\n",
            "Confusion Matrix:\n",
            "[[   0    0  161]\n",
            " [   0    0  278]\n",
            " [   0    2 6491]]\n"
          ]
        }
      ]
    },
    {
      "cell_type": "code",
      "source": [
        "plt.figure(figsize=(8, 6))\n",
        "sns.heatmap(conf_matrix, annot=True, fmt='d', cmap='Blues', xticklabels=labels, yticklabels=labels)\n",
        "plt.xlabel('Predicted')\n",
        "plt.ylabel('Actual')\n",
        "plt.title('Confusion Matrix')\n",
        "plt.show()"
      ],
      "metadata": {
        "colab": {
          "base_uri": "https://localhost:8080/",
          "height": 564
        },
        "id": "3qK3W7QlSvav",
        "outputId": "3ce3a746-50aa-4114-a029-eec3b0cc51d6"
      },
      "execution_count": null,
      "outputs": [
        {
          "output_type": "display_data",
          "data": {
            "text/plain": [
              "<Figure size 800x600 with 2 Axes>"
            ],
            "image/png": "[encoded data removed]"
          },
          "metadata": {}
        }
      ]
    },
    {
      "cell_type": "markdown",
      "source": [
        "**Logistic Regression Model**"
      ],
      "metadata": {
        "id": "-QiX97wghXtw"
      }
    },
    {
      "cell_type": "code",
      "source": [
        "logreg_model = LogisticRegression(max_iter=1000)\n",
        "logreg_model.fit(x_train, y_train)"
      ],
      "metadata": {
        "colab": {
          "base_uri": "https://localhost:8080/",
          "height": 75
        },
        "id": "Ed4j12araosu",
        "outputId": "c3ce2305-23f3-4659-dfb1-6b90072100ee"
      },
      "execution_count": null,
      "outputs": [
        {
          "output_type": "execute_result",
          "data": {
            "text/plain": [
              "LogisticRegression(max_iter=1000)"
            ],
            "text/html": [
              "<style>#sk-container-id-2 {color: black;background-color: white;}#sk-container-id-2 pre{padding: 0;}#sk-container-id-2 div.sk-toggleable {background-color: white;}#sk-container-id-2 label.sk-toggleable__label {cursor: pointer;display: block;width: 100%;margin-bottom: 0;padding: 0.3em;box-sizing: border-box;text-align: center;}#sk-container-id-2 label.sk-toggleable__label-arrow:before {content: \"▸\";float: left;margin-right: 0.25em;color: #696969;}#sk-container-id-2 label.sk-toggleable__label-arrow:hover:before {color: black;}#sk-container-id-2 div.sk-estimator:hover label.sk-toggleable__label-arrow:before {color: black;}#sk-container-id-2 div.sk-toggleable__content {max-height: 0;max-width: 0;overflow: hidden;text-align: left;background-color: #f0f8ff;}#sk-container-id-2 div.sk-toggleable__content pre {margin: 0.2em;color: black;border-radius: 0.25em;background-color: #f0f8ff;}#sk-container-id-2 input.sk-toggleable__control:checked~div.sk-toggleable__content {max-height: 200px;max-width: 100%;overflow: auto;}#sk-container-id-2 input.sk-toggleable__control:checked~label.sk-toggleable__label-arrow:before {content: \"▾\";}#sk-container-id-2 div.sk-estimator input.sk-toggleable__control:checked~label.sk-toggleable__label {background-color: #d4ebff;}#sk-container-id-2 div.sk-label input.sk-toggleable__control:checked~label.sk-toggleable__label {background-color: #d4ebff;}#sk-container-id-2 input.sk-hidden--visually {border: 0;clip: rect(1px 1px 1px 1px);clip: rect(1px, 1px, 1px, 1px);height: 1px;margin: -1px;overflow: hidden;padding: 0;position: absolute;width: 1px;}#sk-container-id-2 div.sk-estimator {font-family: monospace;background-color: #f0f8ff;border: 1px dotted black;border-radius: 0.25em;box-sizing: border-box;margin-bottom: 0.5em;}#sk-container-id-2 div.sk-estimator:hover {background-color: #d4ebff;}#sk-container-id-2 div.sk-parallel-item::after {content: \"\";width: 100%;border-bottom: 1px solid gray;flex-grow: 1;}#sk-container-id-2 div.sk-label:hover label.sk-toggleable__label {background-color: #d4ebff;}#sk-container-id-2 div.sk-serial::before {content: \"\";position: absolute;border-left: 1px solid gray;box-sizing: border-box;top: 0;bottom: 0;left: 50%;z-index: 0;}#sk-container-id-2 div.sk-serial {display: flex;flex-direction: column;align-items: center;background-color: white;padding-right: 0.2em;padding-left: 0.2em;position: relative;}#sk-container-id-2 div.sk-item {position: relative;z-index: 1;}#sk-container-id-2 div.sk-parallel {display: flex;align-items: stretch;justify-content: center;background-color: white;position: relative;}#sk-container-id-2 div.sk-item::before, #sk-container-id-2 div.sk-parallel-item::before {content: \"\";position: absolute;border-left: 1px solid gray;box-sizing: border-box;top: 0;bottom: 0;left: 50%;z-index: -1;}#sk-container-id-2 div.sk-parallel-item {display: flex;flex-direction: column;z-index: 1;position: relative;background-color: white;}#sk-container-id-2 div.sk-parallel-item:first-child::after {align-self: flex-end;width: 50%;}#sk-container-id-2 div.sk-parallel-item:last-child::after {align-self: flex-start;width: 50%;}#sk-container-id-2 div.sk-parallel-item:only-child::after {width: 0;}#sk-container-id-2 div.sk-dashed-wrapped {border: 1px dashed gray;margin: 0 0.4em 0.5em 0.4em;box-sizing: border-box;padding-bottom: 0.4em;background-color: white;}#sk-container-id-2 div.sk-label label {font-family: monospace;font-weight: bold;display: inline-block;line-height: 1.2em;}#sk-container-id-2 div.sk-label-container {text-align: center;}#sk-container-id-2 div.sk-container {/* jupyter's `normalize.less` sets `[hidden] { display: none; }` but bootstrap.min.css set `[hidden] { display: none !important; }` so we also need the `!important` here to be able to override the default hidden behavior on the sphinx rendered scikit-learn.org. See: https://github.com/scikit-learn/scikit-learn/issues/21755 */display: inline-block !important;position: relative;}#sk-container-id-2 div.sk-text-repr-fallback {display: none;}</style><div id=\"sk-container-id-2\" class=\"sk-top-container\"><div class=\"sk-text-repr-fallback\"><pre>LogisticRegression(max_iter=1000)</pre><b>In a Jupyter environment, please rerun this cell to show the HTML representation or trust the notebook. <br />On GitHub, the HTML representation is unable to render, please try loading this page with nbviewer.org.</b></div><div class=\"sk-container\" hidden><div class=\"sk-item\"><div class=\"sk-estimator sk-toggleable\"><input class=\"sk-toggleable__control sk-hidden--visually\" id=\"sk-estimator-id-2\" type=\"checkbox\" checked><label for=\"sk-estimator-id-2\" class=\"sk-toggleable__label sk-toggleable__label-arrow\">LogisticRegression</label><div class=\"sk-toggleable__content\"><pre>LogisticRegression(max_iter=1000)</pre></div></div></div></div></div>"
            ]
          },
          "metadata": {},
          "execution_count": 42
        }
      ]
    },
    {
      "cell_type": "code",
      "source": [
        "y_pred2 = logreg_model.predict(x_test)"
      ],
      "metadata": {
        "id": "vKVN4c3mb2xg"
      },
      "execution_count": null,
      "outputs": []
    },
    {
      "cell_type": "code",
      "source": [
        "accuracy = accuracy_score(y_test, y_pred2)\n",
        "report = classification_report(y_test, y_pred2, zero_division=0)\n",
        "conf_matrix = confusion_matrix(y_test, y_pred2)"
      ],
      "metadata": {
        "id": "zgI7pG-Cb48g"
      },
      "execution_count": null,
      "outputs": []
    },
    {
      "cell_type": "code",
      "source": [
        "print(f'Accuracy: {accuracy:.4f}')\n",
        "print(f'Classification Report:\\n{report}')\n",
        "print(f'Confusion Matrix:\\n{conf_matrix}')"
      ],
      "metadata": {
        "colab": {
          "base_uri": "https://localhost:8080/"
        },
        "id": "aI4vb8VBcDVw",
        "outputId": "8e4c9b93-0074-4e47-8fcf-04f56a89c212"
      },
      "execution_count": null,
      "outputs": [
        {
          "output_type": "stream",
          "name": "stdout",
          "text": [
            "Accuracy: 0.9406\n",
            "Classification Report:\n",
            "              precision    recall  f1-score   support\n",
            "\n",
            "    negative       0.68      0.16      0.25       161\n",
            "     neutral       0.49      0.07      0.12       278\n",
            "    positive       0.94      1.00      0.97      6493\n",
            "\n",
            "    accuracy                           0.94      6932\n",
            "   macro avg       0.70      0.41      0.45      6932\n",
            "weighted avg       0.92      0.94      0.92      6932\n",
            "\n",
            "Confusion Matrix:\n",
            "[[  25    9  127]\n",
            " [   6   19  253]\n",
            " [   6   11 6476]]\n"
          ]
        }
      ]
    },
    {
      "cell_type": "code",
      "source": [
        "labels = ['negative', 'neutral', 'positive']\n",
        "metrics = classification_report(y_test, y_pred2, target_names=labels, zero_division=0, output_dict=True)\n",
        "\n",
        "precision = [metrics[label]['precision'] for label in labels]\n",
        "recall = [metrics[label]['recall'] for label in labels]\n",
        "f1 = [metrics[label]['f1-score'] for label in labels]\n",
        "\n",
        "plt.figure(figsize=(10, 5))\n",
        "\n",
        "plt.subplot(1, 3, 1)\n",
        "plt.bar(labels, precision, color='blue', alpha=0.7)\n",
        "plt.title('Precision')\n",
        "\n",
        "plt.subplot(1, 3, 2)\n",
        "plt.bar(labels, recall, color='green', alpha=0.7)\n",
        "plt.title('Recall')\n",
        "\n",
        "plt.subplot(1, 3, 3)\n",
        "plt.bar(labels, f1, color='orange', alpha=0.7)\n",
        "plt.title('F1-score')\n",
        "\n",
        "plt.tight_layout()\n",
        "plt.show()"
      ],
      "metadata": {
        "colab": {
          "base_uri": "https://localhost:8080/",
          "height": 507
        },
        "id": "qCw0RqbgcPpE",
        "outputId": "213d1600-94bd-46d5-b596-62cd3f33d45d"
      },
      "execution_count": null,
      "outputs": [
        {
          "output_type": "display_data",
          "data": {
            "text/plain": [
              "<Figure size 1000x500 with 3 Axes>"
            ],
            "image/png": "[encoded data removed]"
          },
          "metadata": {}
        }
      ]
    },
    {
      "cell_type": "code",
      "source": [
        "plt.figure(figsize=(8, 6))\n",
        "sns.heatmap(conf_matrix, annot=True, fmt='d', cmap='Blues', xticklabels=labels, yticklabels=labels)\n",
        "plt.xlabel('Predicted')\n",
        "plt.ylabel('Actual')\n",
        "plt.title('Confusion Matrix')\n",
        "plt.show()"
      ],
      "metadata": {
        "colab": {
          "base_uri": "https://localhost:8080/",
          "height": 564
        },
        "id": "EXQBFoTZcRJT",
        "outputId": "93909f74-fca4-4529-da94-a2305b8d926f"
      },
      "execution_count": null,
      "outputs": [
        {
          "output_type": "display_data",
          "data": {
            "text/plain": [
              "<Figure size 800x600 with 2 Axes>"
            ],
            "image/png": "[encoded data removed]"
          },
          "metadata": {}
        }
      ]
    },
    {
      "cell_type": "markdown",
      "source": [
        "**Random Forest**"
      ],
      "metadata": {
        "id": "gSFEIylxlScN"
      }
    },
    {
      "cell_type": "markdown",
      "source": [
        "Base model"
      ],
      "metadata": {
        "id": "4XKfuP4gb68-"
      }
    },
    {
      "cell_type": "code",
      "source": [
        "rf_model = RandomForestClassifier(random_state=42)\n",
        "rf_model.fit(x_train, y_train)"
      ],
      "metadata": {
        "colab": {
          "base_uri": "https://localhost:8080/",
          "height": 75
        },
        "id": "t26bBKBAlT7P",
        "outputId": "e1af869f-21fa-4902-bd54-49540a7363e0"
      },
      "execution_count": null,
      "outputs": [
        {
          "output_type": "execute_result",
          "data": {
            "text/plain": [
              "RandomForestClassifier(random_state=42)"
            ],
            "text/html": [
              "<style>#sk-container-id-3 {color: black;background-color: white;}#sk-container-id-3 pre{padding: 0;}#sk-container-id-3 div.sk-toggleable {background-color: white;}#sk-container-id-3 label.sk-toggleable__label {cursor: pointer;display: block;width: 100%;margin-bottom: 0;padding: 0.3em;box-sizing: border-box;text-align: center;}#sk-container-id-3 label.sk-toggleable__label-arrow:before {content: \"▸\";float: left;margin-right: 0.25em;color: #696969;}#sk-container-id-3 label.sk-toggleable__label-arrow:hover:before {color: black;}#sk-container-id-3 div.sk-estimator:hover label.sk-toggleable__label-arrow:before {color: black;}#sk-container-id-3 div.sk-toggleable__content {max-height: 0;max-width: 0;overflow: hidden;text-align: left;background-color: #f0f8ff;}#sk-container-id-3 div.sk-toggleable__content pre {margin: 0.2em;color: black;border-radius: 0.25em;background-color: #f0f8ff;}#sk-container-id-3 input.sk-toggleable__control:checked~div.sk-toggleable__content {max-height: 200px;max-width: 100%;overflow: auto;}#sk-container-id-3 input.sk-toggleable__control:checked~label.sk-toggleable__label-arrow:before {content: \"▾\";}#sk-container-id-3 div.sk-estimator input.sk-toggleable__control:checked~label.sk-toggleable__label {background-color: #d4ebff;}#sk-container-id-3 div.sk-label input.sk-toggleable__control:checked~label.sk-toggleable__label {background-color: #d4ebff;}#sk-container-id-3 input.sk-hidden--visually {border: 0;clip: rect(1px 1px 1px 1px);clip: rect(1px, 1px, 1px, 1px);height: 1px;margin: -1px;overflow: hidden;padding: 0;position: absolute;width: 1px;}#sk-container-id-3 div.sk-estimator {font-family: monospace;background-color: #f0f8ff;border: 1px dotted black;border-radius: 0.25em;box-sizing: border-box;margin-bottom: 0.5em;}#sk-container-id-3 div.sk-estimator:hover {background-color: #d4ebff;}#sk-container-id-3 div.sk-parallel-item::after {content: \"\";width: 100%;border-bottom: 1px solid gray;flex-grow: 1;}#sk-container-id-3 div.sk-label:hover label.sk-toggleable__label {background-color: #d4ebff;}#sk-container-id-3 div.sk-serial::before {content: \"\";position: absolute;border-left: 1px solid gray;box-sizing: border-box;top: 0;bottom: 0;left: 50%;z-index: 0;}#sk-container-id-3 div.sk-serial {display: flex;flex-direction: column;align-items: center;background-color: white;padding-right: 0.2em;padding-left: 0.2em;position: relative;}#sk-container-id-3 div.sk-item {position: relative;z-index: 1;}#sk-container-id-3 div.sk-parallel {display: flex;align-items: stretch;justify-content: center;background-color: white;position: relative;}#sk-container-id-3 div.sk-item::before, #sk-container-id-3 div.sk-parallel-item::before {content: \"\";position: absolute;border-left: 1px solid gray;box-sizing: border-box;top: 0;bottom: 0;left: 50%;z-index: -1;}#sk-container-id-3 div.sk-parallel-item {display: flex;flex-direction: column;z-index: 1;position: relative;background-color: white;}#sk-container-id-3 div.sk-parallel-item:first-child::after {align-self: flex-end;width: 50%;}#sk-container-id-3 div.sk-parallel-item:last-child::after {align-self: flex-start;width: 50%;}#sk-container-id-3 div.sk-parallel-item:only-child::after {width: 0;}#sk-container-id-3 div.sk-dashed-wrapped {border: 1px dashed gray;margin: 0 0.4em 0.5em 0.4em;box-sizing: border-box;padding-bottom: 0.4em;background-color: white;}#sk-container-id-3 div.sk-label label {font-family: monospace;font-weight: bold;display: inline-block;line-height: 1.2em;}#sk-container-id-3 div.sk-label-container {text-align: center;}#sk-container-id-3 div.sk-container {/* jupyter's `normalize.less` sets `[hidden] { display: none; }` but bootstrap.min.css set `[hidden] { display: none !important; }` so we also need the `!important` here to be able to override the default hidden behavior on the sphinx rendered scikit-learn.org. See: https://github.com/scikit-learn/scikit-learn/issues/21755 */display: inline-block !important;position: relative;}#sk-container-id-3 div.sk-text-repr-fallback {display: none;}</style><div id=\"sk-container-id-3\" class=\"sk-top-container\"><div class=\"sk-text-repr-fallback\"><pre>RandomForestClassifier(random_state=42)</pre><b>In a Jupyter environment, please rerun this cell to show the HTML representation or trust the notebook. <br />On GitHub, the HTML representation is unable to render, please try loading this page with nbviewer.org.</b></div><div class=\"sk-container\" hidden><div class=\"sk-item\"><div class=\"sk-estimator sk-toggleable\"><input class=\"sk-toggleable__control sk-hidden--visually\" id=\"sk-estimator-id-3\" type=\"checkbox\" checked><label for=\"sk-estimator-id-3\" class=\"sk-toggleable__label sk-toggleable__label-arrow\">RandomForestClassifier</label><div class=\"sk-toggleable__content\"><pre>RandomForestClassifier(random_state=42)</pre></div></div></div></div></div>"
            ]
          },
          "metadata": {},
          "execution_count": 49
        }
      ]
    },
    {
      "cell_type": "code",
      "source": [
        "y_pred3 = rf_model.predict(x_test)\n",
        "\n",
        "accuracy = accuracy_score(y_test, y_pred3)\n",
        "report = classification_report(y_test, y_pred3, zero_division=0)\n",
        "conf_matrix = confusion_matrix(y_test, y_pred3)\n",
        "\n",
        "print(f'Accuracy: {accuracy:.4f}')\n",
        "print(f'Classification Report:\\n{report}')\n",
        "print(f'Confusion Matrix:\\n{conf_matrix}')"
      ],
      "metadata": {
        "colab": {
          "base_uri": "https://localhost:8080/"
        },
        "id": "8D0B4fWvlXxp",
        "outputId": "32289a9b-eb97-425b-8001-71a74c50517e"
      },
      "execution_count": null,
      "outputs": [
        {
          "output_type": "stream",
          "name": "stdout",
          "text": [
            "Accuracy: 0.9375\n",
            "Classification Report:\n",
            "              precision    recall  f1-score   support\n",
            "\n",
            "    negative       0.67      0.02      0.05       161\n",
            "     neutral       0.75      0.01      0.02       278\n",
            "    positive       0.94      1.00      0.97      6493\n",
            "\n",
            "    accuracy                           0.94      6932\n",
            "   macro avg       0.78      0.35      0.35      6932\n",
            "weighted avg       0.92      0.94      0.91      6932\n",
            "\n",
            "Confusion Matrix:\n",
            "[[   4    0  157]\n",
            " [   2    3  273]\n",
            " [   0    1 6492]]\n"
          ]
        }
      ]
    },
    {
      "cell_type": "code",
      "source": [
        "labels = ['negative', 'neutral', 'positive']\n",
        "metrics = classification_report(y_test, y_pred, target_names=labels, zero_division=0, output_dict=True)\n",
        "\n",
        "precision = [metrics[label]['precision'] for label in labels]\n",
        "recall = [metrics[label]['recall'] for label in labels]\n",
        "f1 = [metrics[label]['f1-score'] for label in labels]\n",
        "\n",
        "plt.figure(figsize=(10, 5))\n",
        "\n",
        "plt.subplot(1, 3, 1)\n",
        "plt.bar(labels, precision, color='blue', alpha=0.7)\n",
        "plt.title('Precision')\n",
        "\n",
        "plt.subplot(1, 3, 2)\n",
        "plt.bar(labels, recall, color='green', alpha=0.7)\n",
        "plt.title('Recall')\n",
        "\n",
        "plt.subplot(1, 3, 3)\n",
        "plt.bar(labels, f1, color='orange', alpha=0.7)\n",
        "plt.title('F1-score')\n",
        "\n",
        "plt.tight_layout()\n",
        "plt.show()\n",
        "\n",
        "# Plotting Confusion Matrix\n",
        "plt.figure(figsize=(8, 6))\n",
        "sns.heatmap(conf_matrix, annot=True, fmt='d', cmap='Blues', xticklabels=labels, yticklabels=labels)\n",
        "plt.xlabel('Predicted')\n",
        "plt.ylabel('Actual')\n",
        "plt.title('Confusion Matrix')\n",
        "plt.show()"
      ],
      "metadata": {
        "colab": {
          "base_uri": "https://localhost:8080/",
          "height": 1000
        },
        "id": "G__nLyqYlcaf",
        "outputId": "2a39e6fc-3184-487b-e6cf-8828b33f8746"
      },
      "execution_count": null,
      "outputs": [
        {
          "output_type": "display_data",
          "data": {
            "text/plain": [
              "<Figure size 1000x500 with 3 Axes>"
            ],
            "image/png": "[encoded data removed]"
          },
          "metadata": {}
        },
        {
          "output_type": "display_data",
          "data": {
            "text/plain": [
              "<Figure size 800x600 with 2 Axes>"
            ],
            "image/png": "[encoded data removed]"
          },
          "metadata": {}
        }
      ]
    },
    {
      "cell_type": "markdown",
      "source": [
        "SelectFromModel\n",
        "- for selecting important features based on the trained random forest model"
      ],
      "metadata": {
        "id": "CXDJrbbTb-fX"
      }
    },
    {
      "cell_type": "code",
      "source": [
        "from sklearn.feature_selection import SelectFromModel\n",
        "\n",
        "rf_model = RandomForestClassifier(random_state=42)\n",
        "rf_model.fit(x_train, y_train)\n",
        "\n",
        "sfm = SelectFromModel(rf_model, threshold='mean', prefit=True)\n",
        "x_train_selected = sfm.transform(x_train)\n",
        "x_test_selected = sfm.transform(x_test)\n",
        "\n",
        "\n",
        "rf_model_selected = RandomForestClassifier(random_state=42)\n",
        "rf_model_selected.fit(x_train_selected, y_train)\n",
        "\n",
        "y_pred_selected = rf_model_selected.predict(x_test_selected)\n",
        "\n",
        "accuracy_selected = accuracy_score(y_test, y_pred_selected)\n",
        "report_selected = classification_report(y_test, y_pred_selected, zero_division=0)\n",
        "conf_matrix_selected = confusion_matrix(y_test, y_pred_selected)\n",
        "\n",
        "print(f'Selected Features Accuracy: {accuracy_selected:.4f}')\n",
        "print(f'Selected Features Classification Report:\\n{report_selected}')\n",
        "print(f'Selected Features Confusion Matrix:\\n{conf_matrix_selected}')\n"
      ],
      "metadata": {
        "colab": {
          "base_uri": "https://localhost:8080/"
        },
        "id": "PZwHbfEKnJD3",
        "outputId": "6dc5936d-0c60-4d55-fe0a-09034bc28927"
      },
      "execution_count": null,
      "outputs": [
        {
          "output_type": "stream",
          "name": "stdout",
          "text": [
            "Selected Features Accuracy: 0.9370\n",
            "Selected Features Classification Report:\n",
            "              precision    recall  f1-score   support\n",
            "\n",
            "    negative       0.57      0.05      0.09       161\n",
            "     neutral       0.40      0.01      0.03       278\n",
            "    positive       0.94      1.00      0.97      6493\n",
            "\n",
            "    accuracy                           0.94      6932\n",
            "   macro avg       0.64      0.35      0.36      6932\n",
            "weighted avg       0.91      0.94      0.91      6932\n",
            "\n",
            "Selected Features Confusion Matrix:\n",
            "[[   8    0  153]\n",
            " [   2    4  272]\n",
            " [   4    6 6483]]\n"
          ]
        }
      ]
    },
    {
      "cell_type": "markdown",
      "source": [
        "SMOTE (Minority oversampling technique)\n",
        "- To address the imbalance of classes in the training data\n",
        "- This adjusts weights inversely proportional to class frequencies in the input data, addressing any residual class imbalance."
      ],
      "metadata": {
        "id": "Quy5w4vUcqdJ"
      }
    },
    {
      "cell_type": "code",
      "source": [
        "from imblearn.over_sampling import SMOTE\n",
        "smote = SMOTE(random_state=42)\n",
        "x_train_resampled, y_train_resampled = smote.fit_resample(x_train, y_train)\n",
        "\n",
        "rf_model = RandomForestClassifier(class_weight='balanced', n_estimators=100, max_depth=10, random_state=42)\n",
        "rf_model.fit(x_train_resampled, y_train_resampled)\n",
        "\n",
        "y_pred = rf_model.predict(x_test)\n",
        "\n",
        "report = classification_report(y_test, y_pred)\n",
        "conf_matrix = confusion_matrix(y_test, y_pred)\n",
        "\n",
        "print(f'Accuracy: {accuracy:.4f}')\n",
        "print(f'Classification Report:\\n{report}')\n",
        "print(f'Confusion Matrix:\\n{conf_matrix}')"
      ],
      "metadata": {
        "colab": {
          "base_uri": "https://localhost:8080/"
        },
        "id": "I-UrPNd5sDmS",
        "outputId": "ea953944-171a-4d05-de0e-b11b8b0f8a91"
      },
      "execution_count": null,
      "outputs": [
        {
          "output_type": "stream",
          "name": "stdout",
          "text": [
            "Accuracy: 0.9375\n",
            "Classification Report:\n",
            "              precision    recall  f1-score   support\n",
            "\n",
            "    negative       0.20      0.37      0.26       161\n",
            "     neutral       0.15      0.28      0.19       278\n",
            "    positive       0.96      0.90      0.93      6493\n",
            "\n",
            "    accuracy                           0.87      6932\n",
            "   macro avg       0.44      0.52      0.46      6932\n",
            "weighted avg       0.91      0.87      0.89      6932\n",
            "\n",
            "Confusion Matrix:\n",
            "[[  59   26   76]\n",
            " [  21   77  180]\n",
            " [ 208  411 5874]]\n"
          ]
        }
      ]
    },
    {
      "cell_type": "code",
      "source": [
        "plt.figure(figsize=(8, 6))\n",
        "sns.heatmap(conf_matrix, annot=True, cmap='Blues', fmt='d', xticklabels=rf_model.classes_, yticklabels=rf_model.classes_)\n",
        "plt.xlabel('Predicted')\n",
        "plt.ylabel('Actual')\n",
        "plt.title('Confusion Matrix')\n",
        "plt.show()"
      ],
      "metadata": {
        "colab": {
          "base_uri": "https://localhost:8080/",
          "height": 564
        },
        "id": "zmVS2WFBsQQy",
        "outputId": "5844288e-773c-4a26-b477-de6fdf2ab803"
      },
      "execution_count": null,
      "outputs": [
        {
          "output_type": "display_data",
          "data": {
            "text/plain": [
              "<Figure size 800x600 with 2 Axes>"
            ],
            "image/png": "[encoded data removed]"
          },
          "metadata": {}
        }
      ]
    },
    {
      "cell_type": "markdown",
      "source": [
        "Hyperparameted tuning using 'RandomisedSearchCV'\n",
        "- RandomizedSearchCV is set up to perform a randomized search over the specified parameter grid"
      ],
      "metadata": {
        "id": "QxBifLbHdeqT"
      }
    },
    {
      "cell_type": "code",
      "source": [
        "from sklearn.model_selection import RandomizedSearchCV\n",
        "from scipy.stats import randint\n",
        "\n",
        "param_dist = {\n",
        "    'n_estimators': [50, 100],\n",
        "    'max_depth': [None, 10, 20],\n",
        "    'min_samples_split': [2, 5],\n",
        "    'min_samples_leaf': [1, 2],\n",
        "    'max_features': ['auto', 'sqrt'],\n",
        "    'bootstrap': [True]\n",
        "}\n",
        "\n",
        "rf_model = RandomForestClassifier(random_state=42)\n",
        "\n",
        "random_search = RandomizedSearchCV(estimator=rf_model, param_distributions=param_dist,\n",
        "                                   n_iter=10, cv=3, scoring='accuracy',\n",
        "                                   verbose=1, random_state=42, n_jobs=-1)\n",
        "\n",
        "random_search.fit(x_train, y_train)\n",
        "\n",
        "print(\"Best Parameters found by Randomized Search:\")\n",
        "print(random_search.best_params_)\n",
        "\n",
        "best_rf_model = random_search.best_estimator_\n",
        "\n",
        "y_pred_best = best_rf_model.predict(x_test)\n",
        "\n",
        "accuracy_best = accuracy_score(y_test, y_pred_best)\n",
        "print(f\"\\nAccuracy (Best Parameters): {accuracy_best:.2f}\")\n",
        "\n",
        "report_best = classification_report(y_test, y_pred_best, zero_division=0)\n",
        "print(\"Classification Report (Best Parameters):\")\n",
        "print(report_best)\n",
        "\n",
        "conf_matrix_best = confusion_matrix(y_test, y_pred_best)\n",
        "print(\"Confusion Matrix (Best Parameters):\")\n",
        "print(conf_matrix_best)\n"
      ],
      "metadata": {
        "colab": {
          "base_uri": "https://localhost:8080/"
        },
        "id": "agauWhAJJBkf",
        "outputId": "7ce3ec8f-d996-4bee-c106-762f750f36eb"
      },
      "execution_count": null,
      "outputs": [
        {
          "output_type": "stream",
          "name": "stdout",
          "text": [
            "Fitting 3 folds for each of 10 candidates, totalling 30 fits\n",
            "Best Parameters found by Randomized Search:\n",
            "{'n_estimators': 100, 'min_samples_split': 5, 'min_samples_leaf': 1, 'max_features': 'sqrt', 'max_depth': 10, 'bootstrap': True}\n",
            "\n",
            "Accuracy (Best Parameters): 0.94\n",
            "Classification Report (Best Parameters):\n",
            "              precision    recall  f1-score   support\n",
            "\n",
            "    negative       0.00      0.00      0.00       161\n",
            "     neutral       0.00      0.00      0.00       278\n",
            "    positive       0.94      1.00      0.97      6493\n",
            "\n",
            "    accuracy                           0.94      6932\n",
            "   macro avg       0.31      0.33      0.32      6932\n",
            "weighted avg       0.88      0.94      0.91      6932\n",
            "\n",
            "Confusion Matrix (Best Parameters):\n",
            "[[   0    0  161]\n",
            " [   0    0  278]\n",
            " [   0    0 6493]]\n"
          ]
        }
      ]
    },
    {
      "cell_type": "markdown",
      "source": [
        "Grid Search\n",
        "- A systematic search method to explore different hyperparameter combinations thoroughly"
      ],
      "metadata": {
        "id": "aTzer9B4eJwg"
      }
    },
    {
      "cell_type": "code",
      "source": [
        "from sklearn.ensemble import RandomForestClassifier\n",
        "from sklearn.model_selection import GridSearchCV\n",
        "\n",
        "param_grid = {\n",
        "    'n_estimators': [50, 100],\n",
        "    'max_depth': [None, 10, 20],\n",
        "    'min_samples_split': [2, 5],\n",
        "    'min_samples_leaf': [1, 2],\n",
        "    'max_features': ['sqrt'],\n",
        "    'bootstrap': [True]\n",
        "}\n",
        "\n",
        "rf_model = RandomForestClassifier(random_state=42)\n",
        "\n",
        "grid_search = GridSearchCV(estimator=rf_model, param_grid=param_grid,\n",
        "                           cv=3, scoring='accuracy', verbose=1, n_jobs=-1)\n",
        "\n",
        "grid_search.fit(x_train, y_train)\n",
        "\n",
        "print(\"Best Parameters found by Grid Search:\")\n",
        "print(grid_search.best_params_)\n",
        "\n",
        "best_rf_model = grid_search.best_estimator_\n",
        "\n",
        "y_pred_best = best_rf_model.predict(x_test)\n",
        "\n",
        "accuracy_best = accuracy_score(y_test, y_pred_best)\n",
        "print(f\"\\nAccuracy (Best Parameters): {accuracy_best:.2f}\")\n",
        "\n",
        "report_best = classification_report(y_test, y_pred_best, zero_division=0)\n",
        "print(\"Classification Report (Best Parameters):\")\n",
        "print(report_best)\n",
        "\n",
        "conf_matrix_best = confusion_matrix(y_test, y_pred_best)\n",
        "print(\"Confusion Matrix (Best Parameters):\")\n",
        "print(conf_matrix_best)"
      ],
      "metadata": {
        "colab": {
          "base_uri": "https://localhost:8080/"
        },
        "id": "hWOcUhKzLe7f",
        "outputId": "a67ca955-471d-4a1f-d34d-ed831249d8ac"
      },
      "execution_count": null,
      "outputs": [
        {
          "output_type": "stream",
          "name": "stdout",
          "text": [
            "Fitting 3 folds for each of 24 candidates, totalling 72 fits\n",
            "Best Parameters found by Grid Search:\n",
            "{'bootstrap': True, 'max_depth': None, 'max_features': 'sqrt', 'min_samples_leaf': 1, 'min_samples_split': 2, 'n_estimators': 50}\n",
            "\n",
            "Accuracy (Best Parameters): 0.94\n",
            "Classification Report (Best Parameters):\n",
            "              precision    recall  f1-score   support\n",
            "\n",
            "    negative       0.56      0.03      0.06       161\n",
            "     neutral       0.40      0.01      0.01       278\n",
            "    positive       0.94      1.00      0.97      6493\n",
            "\n",
            "    accuracy                           0.94      6932\n",
            "   macro avg       0.63      0.35      0.35      6932\n",
            "weighted avg       0.91      0.94      0.91      6932\n",
            "\n",
            "Confusion Matrix (Best Parameters):\n",
            "[[   5    0  156]\n",
            " [   3    2  273]\n",
            " [   1    3 6489]]\n"
          ]
        }
      ]
    },
    {
      "cell_type": "code",
      "source": [
        "param_grid = {\n",
        "    'n_estimators': [50, 100],\n",
        "    'max_depth': [None, 10, 20],\n",
        "    'min_samples_split': [2, 5],\n",
        "    'min_samples_leaf': [1, 2],\n",
        "    'max_features': ['sqrt'],\n",
        "    'bootstrap': [True]\n",
        "}\n",
        "\n",
        "rf_model = RandomForestClassifier(random_state=42)\n",
        "\n",
        "grid_search = GridSearchCV(estimator=rf_model, param_grid=param_grid,\n",
        "                           cv=5, scoring='accuracy', verbose=1, n_jobs=-1)\n",
        "\n",
        "grid_search.fit(x_train, y_train)\n",
        "\n",
        "print(\"Best Parameters found by Grid Search:\")\n",
        "print(grid_search.best_params_)\n",
        "\n",
        "best_rf_model = grid_search.best_estimator_\n",
        "\n",
        "y_pred_best = best_rf_model.predict(x_test)\n",
        "\n",
        "accuracy_best = accuracy_score(y_test, y_pred_best)\n",
        "print(f\"\\nAccuracy (Best Parameters): {accuracy_best:.2f}\")\n",
        "\n",
        "report_best = classification_report(y_test, y_pred_best, zero_division=0)\n",
        "print(\"Classification Report (Best Parameters):\")\n",
        "print(report_best)\n",
        "\n",
        "conf_matrix_best = confusion_matrix(y_test, y_pred_best)\n",
        "print(\"Confusion Matrix (Best Parameters):\")\n",
        "print(conf_matrix_best)\n"
      ],
      "metadata": {
        "colab": {
          "base_uri": "https://localhost:8080/"
        },
        "id": "MKrgXJrcRZHu",
        "outputId": "7e0220e6-cd46-4d6e-a88a-7ca9aab35bbd"
      },
      "execution_count": null,
      "outputs": [
        {
          "output_type": "stream",
          "name": "stdout",
          "text": [
            "Fitting 5 folds for each of 24 candidates, totalling 120 fits\n",
            "Best Parameters found by Grid Search:\n",
            "{'bootstrap': True, 'max_depth': None, 'max_features': 'sqrt', 'min_samples_leaf': 1, 'min_samples_split': 2, 'n_estimators': 100}\n",
            "\n",
            "Accuracy (Best Parameters): 0.94\n",
            "Classification Report (Best Parameters):\n",
            "              precision    recall  f1-score   support\n",
            "\n",
            "    negative       0.67      0.02      0.05       161\n",
            "     neutral       0.75      0.01      0.02       278\n",
            "    positive       0.94      1.00      0.97      6493\n",
            "\n",
            "    accuracy                           0.94      6932\n",
            "   macro avg       0.78      0.35      0.35      6932\n",
            "weighted avg       0.92      0.94      0.91      6932\n",
            "\n",
            "Confusion Matrix (Best Parameters):\n",
            "[[   4    0  157]\n",
            " [   2    3  273]\n",
            " [   0    1 6492]]\n"
          ]
        }
      ]
    }
  ]
}